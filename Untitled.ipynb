{
 "cells": [
  {
   "cell_type": "markdown",
   "id": "c2ed5657",
   "metadata": {},
   "source": [
    "# Find names of criminals from `Title` or `Description`"
   ]
  },
  {
   "cell_type": "code",
   "execution_count": 1,
   "id": "762a5022",
   "metadata": {},
   "outputs": [
    {
     "data": {
      "text/html": [
       "<div>\n",
       "<style scoped>\n",
       "    .dataframe tbody tr th:only-of-type {\n",
       "        vertical-align: middle;\n",
       "    }\n",
       "\n",
       "    .dataframe tbody tr th {\n",
       "        vertical-align: top;\n",
       "    }\n",
       "\n",
       "    .dataframe thead th {\n",
       "        text-align: right;\n",
       "    }\n",
       "</style>\n",
       "<table border=\"1\" class=\"dataframe\">\n",
       "  <thead>\n",
       "    <tr style=\"text-align: right;\">\n",
       "      <th></th>\n",
       "      <th>Unnamed: 0</th>\n",
       "      <th>Title</th>\n",
       "      <th>PublishedDate</th>\n",
       "      <th>Views</th>\n",
       "      <th>Likes</th>\n",
       "      <th>Comments</th>\n",
       "      <th>Description</th>\n",
       "      <th>Month</th>\n",
       "      <th>Channel</th>\n",
       "    </tr>\n",
       "  </thead>\n",
       "  <tbody>\n",
       "    <tr>\n",
       "      <th>0</th>\n",
       "      <td>0</td>\n",
       "      <td>A Killer Deadlier than Hitler? Joseph Stalin P...</td>\n",
       "      <td>2023-05-18</td>\n",
       "      <td>277285.0</td>\n",
       "      <td>13062.0</td>\n",
       "      <td>1287.0</td>\n",
       "      <td>Hi friends, happy Thursday!\\n\\nWelcome to the ...</td>\n",
       "      <td>May</td>\n",
       "      <td>Bailey Sarian</td>\n",
       "    </tr>\n",
       "    <tr>\n",
       "      <th>1</th>\n",
       "      <td>1</td>\n",
       "      <td>His Waterbed Secrets - Life Sentence At 14?! J...</td>\n",
       "      <td>2023-05-15</td>\n",
       "      <td>1548343.0</td>\n",
       "      <td>62718.0</td>\n",
       "      <td>4929.0</td>\n",
       "      <td>Hi friends, happy Monday!\\n\\nJoshua Phillips c...</td>\n",
       "      <td>May</td>\n",
       "      <td>Bailey Sarian</td>\n",
       "    </tr>\n",
       "    <tr>\n",
       "      <th>2</th>\n",
       "      <td>2</td>\n",
       "      <td>The Mass Murderer Nobody Talks About: Joseph S...</td>\n",
       "      <td>2023-05-11</td>\n",
       "      <td>678568.0</td>\n",
       "      <td>24518.0</td>\n",
       "      <td>2474.0</td>\n",
       "      <td>Hi friends, happy Thursday!\\n\\nWelcome to the ...</td>\n",
       "      <td>May</td>\n",
       "      <td>Bailey Sarian</td>\n",
       "    </tr>\n",
       "    <tr>\n",
       "      <th>3</th>\n",
       "      <td>3</td>\n",
       "      <td>The Woodworking Wacko - Psychopath Cameron Hoo...</td>\n",
       "      <td>2023-05-08</td>\n",
       "      <td>2128550.0</td>\n",
       "      <td>72986.0</td>\n",
       "      <td>4548.0</td>\n",
       "      <td>For 16 free meals with HelloFresh PLUS free sh...</td>\n",
       "      <td>May</td>\n",
       "      <td>Bailey Sarian</td>\n",
       "    </tr>\n",
       "    <tr>\n",
       "      <th>4</th>\n",
       "      <td>4</td>\n",
       "      <td>This Bloody Crime Saved Our Lives: The Dark Hi...</td>\n",
       "      <td>2023-05-04</td>\n",
       "      <td>691498.0</td>\n",
       "      <td>25994.0</td>\n",
       "      <td>1499.0</td>\n",
       "      <td>Hi friends, happy Thursday!\\n\\nWelcome to the ...</td>\n",
       "      <td>May</td>\n",
       "      <td>Bailey Sarian</td>\n",
       "    </tr>\n",
       "  </tbody>\n",
       "</table>\n",
       "</div>"
      ],
      "text/plain": [
       "   Unnamed: 0                                              Title  \\\n",
       "0           0  A Killer Deadlier than Hitler? Joseph Stalin P...   \n",
       "1           1  His Waterbed Secrets - Life Sentence At 14?! J...   \n",
       "2           2  The Mass Murderer Nobody Talks About: Joseph S...   \n",
       "3           3  The Woodworking Wacko - Psychopath Cameron Hoo...   \n",
       "4           4  This Bloody Crime Saved Our Lives: The Dark Hi...   \n",
       "\n",
       "  PublishedDate      Views    Likes  Comments  \\\n",
       "0    2023-05-18   277285.0  13062.0    1287.0   \n",
       "1    2023-05-15  1548343.0  62718.0    4929.0   \n",
       "2    2023-05-11   678568.0  24518.0    2474.0   \n",
       "3    2023-05-08  2128550.0  72986.0    4548.0   \n",
       "4    2023-05-04   691498.0  25994.0    1499.0   \n",
       "\n",
       "                                         Description Month        Channel  \n",
       "0  Hi friends, happy Thursday!\\n\\nWelcome to the ...   May  Bailey Sarian  \n",
       "1  Hi friends, happy Monday!\\n\\nJoshua Phillips c...   May  Bailey Sarian  \n",
       "2  Hi friends, happy Thursday!\\n\\nWelcome to the ...   May  Bailey Sarian  \n",
       "3  For 16 free meals with HelloFresh PLUS free sh...   May  Bailey Sarian  \n",
       "4  Hi friends, happy Thursday!\\n\\nWelcome to the ...   May  Bailey Sarian  "
      ]
     },
     "execution_count": 1,
     "metadata": {},
     "output_type": "execute_result"
    }
   ],
   "source": [
    "import pandas as pd\n",
    "df = pd.read_csv('data/true_crime_channel_stats.csv')\n",
    "df.head()"
   ]
  },
  {
   "cell_type": "markdown",
   "id": "d1f49df4",
   "metadata": {},
   "source": [
    "Are the names easier to find in one YouTuber more so than the rest based on titles?  Let's look."
   ]
  },
  {
   "cell_type": "code",
   "execution_count": null,
   "id": "73042831",
   "metadata": {},
   "outputs": [],
   "source": [
    "dread = df[df.Channel == \"\"]"
   ]
  }
 ],
 "metadata": {
  "kernelspec": {
   "display_name": "Python 3 (ipykernel)",
   "language": "python",
   "name": "python3"
  },
  "language_info": {
   "codemirror_mode": {
    "name": "ipython",
    "version": 3
   },
   "file_extension": ".py",
   "mimetype": "text/x-python",
   "name": "python",
   "nbconvert_exporter": "python",
   "pygments_lexer": "ipython3",
   "version": "3.9.7"
  }
 },
 "nbformat": 4,
 "nbformat_minor": 5
}
